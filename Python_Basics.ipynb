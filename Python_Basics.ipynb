{
  "nbformat": 4,
  "nbformat_minor": 0,
  "metadata": {
    "colab": {
      "provenance": []
    },
    "kernelspec": {
      "name": "python3",
      "display_name": "Python 3"
    },
    "language_info": {
      "name": "python"
    }
  },
  "cells": [
    {
      "cell_type": "code",
      "execution_count": null,
      "metadata": {
        "id": "uC-tijutVOav"
      },
      "outputs": [],
      "source": [
        "#Python Basics Thoery Questions."
      ]
    },
    {
      "cell_type": "markdown",
      "source": [
        "# Ques1. What is Python, and why is it popular?\n",
        "   - Python is a high-level, interpreted, general-purpose programming language.\n",
        "Python is popular for its-\n",
        "*   Readability\n",
        "*  Open Source\n",
        "*   Easy to use\n",
        "*   Extensive Libraries\n",
        "*   Large Community Supporrt\n",
        "*   versatility across various domains like (web development, data science, artificial intelligence, and automation).\n",
        "\n",
        "\n",
        "\n",
        "\n",
        "\n",
        "  \n",
        "\n",
        "\n"
      ],
      "metadata": {
        "id": "pryh6Dts_-d8"
      }
    },
    {
      "cell_type": "markdown",
      "source": [
        "# Ques2. What is an interpreter in Python?\n",
        "  - An interpreter in Python is a program that\n",
        "reads and executes Python code line by line, instead of compiling the whole code into machine language before running it (like in languages such as C or Java)."
      ],
      "metadata": {
        "id": "7FiO3afxCI6N"
      }
    },
    {
      "cell_type": "markdown",
      "source": [
        "# Ques3. What are pre-defined keywords in Python?\n",
        "  - Pre-defined keywords in Python (also called reserved words) are words that have special meaning in the Python language. You cannot use them as variable names, function names, or identifiers because they are part of the language syntax.\n",
        " Example:- if, else, elif, for, while, return,etc."
      ],
      "metadata": {
        "id": "1andjO8HD7nx"
      }
    },
    {
      "cell_type": "markdown",
      "source": [
        "# Ques4. Can keywords be used as variable names?\n",
        "  - No, pre-defined keywords in Python cannot be used as variable names. They have special meanings in the language and are reserved for specific purposes."
      ],
      "metadata": {
        "id": "kBXUJSHwFlEG"
      }
    },
    {
      "cell_type": "markdown",
      "source": [
        "# Ques5. What is mutability in Python?\n",
        "  - **Mutability** refers to whether the state of an object can be changed after it is created.\n",
        "    - **Mutable objects** can be modified after creation. Examples include lists, dictionaries, and sets.\n",
        "    - **Immutable objects** cannot be modified after creation. Any operation that seems to modify an immutable object actually creates a new object. Examples include strings, tuples, numbers (integers, floats), and frozensets.\n"
      ],
      "metadata": {
        "id": "-epduqUXF5n2"
      }
    },
    {
      "cell_type": "markdown",
      "source": [
        "Ques7.\n"
      ],
      "metadata": {
        "id": "9fbcu_0zHIlt"
      }
    },
    {
      "cell_type": "markdown",
      "metadata": {
        "id": "649ab56e"
      },
      "source": [
        "# Ques6. What is the difference between “==” and “is” operators in Python?\n",
        "- The == operator compares the values of two objects to see if they are equal.\n",
        "-The is operator compares the identity of two objects to see if they are the same object in memory.\n",
        "\n",
        "In simple terms:\n",
        "\n",
        "== checks if the contents are the same.\n",
        "is checks if they are literally the same object.*italicized text*\n"
      ]
    },
    {
      "cell_type": "markdown",
      "source": [
        "# Ques8. What are logical operators in Python?\n",
        "  - Logical operators are used to combine conditional statements.\n",
        "\n",
        "In Python, the logical operators are:\n",
        "\n",
        "- **AND:** Returns True if both statements are true.\n",
        "\n",
        "- **OR:** Returns True if at least one of the statements is true.\n",
        "\n",
        "- **NOT:** Reverses the result, returns False if the result is true, and returns True if the result is false."
      ],
      "metadata": {
        "id": "r2KZDOhJHN5h"
      }
    },
    {
      "cell_type": "markdown",
      "source": [
        "# Ques9. What is type casting in Python?\n",
        "  - Type casting (also known as type conversion) in Python is the process of converting a value from one data type to another. This is useful when you need to perform operations that require a specific data type, or when you want to change the way data is represented."
      ],
      "metadata": {
        "id": "5TR403U_HRg-"
      }
    },
    {
      "cell_type": "markdown",
      "source": [
        "# Ques10. What is the difference between implicit and explicit type casting?\n",
        "  - The difference between implicit and explicit type casting lies in whether the conversion is done automatically by Python or if you explicitly tell Python to perform the conversion.\n",
        "\n",
        "**Implicit Type Casting (Coercion)**: This happens automatically when Python performs operations involving different data types. Python converts one of the operands to a common type before performing the operation. For example, when you add an integer and a float, Python implicitly converts the integer to a float.\n",
        "# New Section\n",
        "**Explicit Type Casting:** This is when you explicitly convert a value from one data type to another using built-in functions like int(), float(), str(), list(), tuple(), etc. You are directly instructing Python to change the data type."
      ],
      "metadata": {
        "id": "3h-XNkhcHTz9"
      }
    },
    {
      "cell_type": "markdown",
      "source": [
        "# Ques11. What is the purpose of conditional statements in Python?\n",
        "##  - **Conditional statements** in Python are used to execute different blocks of code based on whether a certain condition is true or false. They allow your program to make decisions and follow different paths of execution depending on the data or the state of the program.\n",
        "\n",
        "The main conditional statements in Python are if, elif, and else. They are essential for controlling the flow of your program and making it more dynamic and responsive.\n",
        "\n",
        "\n",
        "\n"
      ],
      "metadata": {
        "id": "WbP-jb1cHXjE"
      }
    },
    {
      "cell_type": "markdown",
      "source": [
        "# Ques12. How does the elif statement work?\n",
        "   - elif in Python means \"else if\".\n",
        "\n",
        "It’s used in decision-making (conditional statements) when you need to check multiple conditions.\n",
        "\n",
        "Execution happens top to bottom:\n",
        "\n",
        "Python checks the first if condition.\n",
        "\n",
        "If it’s True, that block runs and the rest are skipped.\n",
        "\n",
        "If it’s False, Python checks the next elif condition.\n",
        "\n",
        "This continues until a condition is True or all conditions are checked.\n",
        "\n",
        "If none of them are True, the else block (if present) runs.\n",
        "\n",
        "Syntax:\n",
        "\n",
        "if condition1:\n",
        "    # code block if condition1 is True\n",
        "elif condition2:\n",
        "    # code block if condition2 is True\n",
        "elif condition3:\n",
        "    # code block if condition3 is True\n",
        "else:\n",
        "    # code block if all above conditions are False\n",
        "\n",
        "   "
      ],
      "metadata": {
        "id": "LReJ-Ta_HZd-"
      }
    },
    {
      "cell_type": "markdown",
      "source": [
        "# Ques13. What is the difference between for and while loops?\n",
        "   -\n",
        "1.   **For Loop** **while loop**\n",
        "*  Think of a for loop like a to-do list.\n",
        "*  You already know how many tasks are on the list.\n",
        "*  You start from the first one and move to the next until you finish them all.\n",
        "*  In Python, it’s used when you already know how many times you want to repeat something or you’re going through a sequence (like a list, string, or range of numbers).\n",
        "\n",
        "* Example:\n",
        "\n",
        "for i in range(3):\n",
        "\n",
        "    print(\"Task\", i)\n",
        "\n",
        "\n",
        "2.  **while loop**\n",
        "*  A while loop is more like waiting for a bus.\n",
        "*  You keep waiting while the condition is true (bus hasn’t come yet).\n",
        "*   In Python, it’s used when you don’t know how many times to repeat something, but you know the condition that must remain true to keep going.\n",
        "\n",
        "\n",
        "\n",
        "*   Example:\n",
        "\n",
        "count = 0\n",
        "\n",
        "while count < 3:\n",
        "\n",
        "    print(\"Waiting...\", count)\n",
        "    count += 1\n",
        "\n",
        "\n",
        "\n",
        "\n",
        "\n",
        "\n"
      ],
      "metadata": {
        "id": "YHYXkdFAHbkm"
      }
    },
    {
      "cell_type": "markdown",
      "source": [
        "## Ques14. Describe a scenario where a while loop is more suitable than a for loop.\n",
        "   - **Scenario:** Password Verification\n",
        "\n",
        "Imagine you’re making a login system.\n",
        "\n",
        "\n",
        "1.   Imagine you’re making a login system.\n",
        "2.   You don’t know in advance how many times the user will enter the wrong password — they might get it right on the first try, or take several attempts.\n",
        "3. In this case, a while loop is better than a for loop because:\n",
        "4.  You keep asking while the entered password is incorrect.\n",
        "5.   The loop stops as soon as the correct password is entered.\n",
        "\n",
        "\n",
        "\n",
        "* Example:\n",
        "\n",
        " correct_password = \"python123\"\n",
        "\n",
        "user_input = \"\"\n",
        "\n",
        "while user_input != correct_password:\n",
        "\n",
        "    user_input = input(\"Enter password: \")\n",
        "\n",
        "print(\"Access granted!\")\n",
        "\n",
        "\n",
        "\n",
        " while loop is better here because:\n",
        "\n",
        "*  We don’t know the number of attempts beforehand.\n",
        "*  The loop continues based on a condition (user_input != correct_password), not a fixed count.**bold text**\n",
        "*   If the user guesses correctly on the first try, the loop ends immediately.\n",
        "\n",
        "\n",
        "\n"
      ],
      "metadata": {
        "id": "csy-65TqHebs"
      }
    },
    {
      "cell_type": "markdown",
      "source": [
        "# Practical Questions"
      ],
      "metadata": {
        "id": "IgbZ5OaeRTsF"
      }
    },
    {
      "cell_type": "markdown",
      "source": [
        "1. Write a Python program to print \"Hello, World!\""
      ],
      "metadata": {
        "id": "l54n0UvWTlJx"
      }
    },
    {
      "cell_type": "code",
      "source": [
        "print(\"Hello, World!\")"
      ],
      "metadata": {
        "colab": {
          "base_uri": "https://localhost:8080/"
        },
        "id": "lgiN0kqeTwNk",
        "outputId": "ae943be7-444b-4738-813f-e2ae11a79927"
      },
      "execution_count": 1,
      "outputs": [
        {
          "output_type": "stream",
          "name": "stdout",
          "text": [
            "Hello, World!\n"
          ]
        }
      ]
    },
    {
      "cell_type": "markdown",
      "source": [
        "2. Write a Python program that displays your name and age"
      ],
      "metadata": {
        "id": "_1k2BBYBR_G3"
      }
    },
    {
      "cell_type": "code",
      "source": [
        "name = \"Ankita Yadav\"\n",
        "age = 22\n",
        "\n",
        "print(\"My name is\", name)\n",
        "print(\"I am\", age, \"years old\")"
      ],
      "metadata": {
        "colab": {
          "base_uri": "https://localhost:8080/"
        },
        "id": "-71q3w1gTxZt",
        "outputId": "b293776c-f30b-4d51-8f08-3b1f2f1d15ab"
      },
      "execution_count": 2,
      "outputs": [
        {
          "output_type": "stream",
          "name": "stdout",
          "text": [
            "My name is Ankita Yadav\n",
            "I am 22 years old\n"
          ]
        }
      ]
    },
    {
      "cell_type": "markdown",
      "source": [
        "3. Write code to print all the pre-defined keywords in Python using the keyword library"
      ],
      "metadata": {
        "id": "lAi02rPFSHS8"
      }
    },
    {
      "cell_type": "code",
      "source": [
        "import keyword\n",
        "\n",
        "print(keyword.kwlist)"
      ],
      "metadata": {
        "colab": {
          "base_uri": "https://localhost:8080/"
        },
        "id": "iesFMLVDTybn",
        "outputId": "c55f5270-c200-47b0-a8cd-9c720c7713cd"
      },
      "execution_count": 3,
      "outputs": [
        {
          "output_type": "stream",
          "name": "stdout",
          "text": [
            "['False', 'None', 'True', 'and', 'as', 'assert', 'async', 'await', 'break', 'class', 'continue', 'def', 'del', 'elif', 'else', 'except', 'finally', 'for', 'from', 'global', 'if', 'import', 'in', 'is', 'lambda', 'nonlocal', 'not', 'or', 'pass', 'raise', 'return', 'try', 'while', 'with', 'yield']\n"
          ]
        }
      ]
    },
    {
      "cell_type": "markdown",
      "source": [
        "4. Write a program that checks if a given word is a Python keyword."
      ],
      "metadata": {
        "id": "QiYLCSHASLYs"
      }
    },
    {
      "cell_type": "code",
      "source": [
        "import keyword\n",
        "\n",
        "word_to_check = \"for\"\n",
        "if word_to_check in keyword.kwlist:\n",
        "  print(f\"'{word_to_check}' is a Python keyword.\")\n",
        "else:\n",
        "  print(f\"'{word_to_check}' is not a Python keyword.\")"
      ],
      "metadata": {
        "colab": {
          "base_uri": "https://localhost:8080/"
        },
        "id": "7wD4ElnITzZY",
        "outputId": "a417d7d1-8c15-4eec-b8b4-bc56b2176b11"
      },
      "execution_count": 4,
      "outputs": [
        {
          "output_type": "stream",
          "name": "stdout",
          "text": [
            "'for' is a Python keyword.\n"
          ]
        }
      ]
    },
    {
      "cell_type": "markdown",
      "source": [
        "5. Create a list and tuple in Python, and demonstrate how attempting to change an element works differently for each."
      ],
      "metadata": {
        "id": "D-9fdCoPSSC8"
      }
    },
    {
      "cell_type": "code",
      "source": [
        "# Create a list\n",
        "my_list = [10, 20, 35, 40, 51]\n",
        "print(\"Original list:\", my_list)\n",
        "\n",
        "# Attempt to change an element in the list\n",
        "my_list[2] = 31\n",
        "print(\"List after attempting to change an element:\", my_list)\n",
        "\n",
        "# Create a tuple\n",
        "my_tuple = (1, 2, 3, 4, 5)\n",
        "print(\"\\nOriginal tuple:\", my_tuple)\n",
        "\n",
        "# Attempt to change an element in the tuple (this will raise an error)\n",
        "try:\n",
        "  my_tuple[2] = 10\n",
        "except TypeError as e:\n",
        "  print(\"Attempting to change an element in the tuple results in an error:\", e)"
      ],
      "metadata": {
        "colab": {
          "base_uri": "https://localhost:8080/"
        },
        "id": "Ms_4SLlrSRlC",
        "outputId": "04a88612-d807-45f9-a0ad-6a17b20cfcd6"
      },
      "execution_count": 6,
      "outputs": [
        {
          "output_type": "stream",
          "name": "stdout",
          "text": [
            "Original list: [10, 20, 35, 40, 51]\n",
            "List after attempting to change an element: [10, 20, 31, 40, 51]\n",
            "\n",
            "Original tuple: (1, 2, 3, 4, 5)\n",
            "Attempting to change an element in the tuple results in an error: 'tuple' object does not support item assignment\n"
          ]
        }
      ]
    },
    {
      "cell_type": "markdown",
      "source": [
        "6. Write a function to demonstrate the behavior of mutable and immutable arguments.\n",
        "\n"
      ],
      "metadata": {
        "id": "Jpk6FaA0SU0t"
      }
    },
    {
      "cell_type": "code",
      "source": [
        "# Function to change values\n",
        "def change_values(a, b):\n",
        "    a = a + 5       # integer (immutable)\n",
        "    b.append(10)    # list (mutable)\n",
        "    print(\"Inside function:\")\n",
        "    print(\"a =\", a)\n",
        "    print(\"b =\", b)\n",
        "\n",
        "# Integer (immutable)\n",
        "x = 5\n",
        "# List (mutable)\n",
        "y = [1, 2, 3]\n",
        "\n",
        "print(\"Before function call:\")\n",
        "print(\"x =\", x)\n",
        "print(\"y =\", y)\n",
        "\n",
        "change_values(x, y)\n",
        "\n",
        "print(\"\\nAfter function call:\")\n",
        "print(\"x =\", x)  # unchanged\n",
        "print(\"y =\", y)  # changed\n"
      ],
      "metadata": {
        "colab": {
          "base_uri": "https://localhost:8080/"
        },
        "id": "7mvfzz4iT0Wb",
        "outputId": "bfc3db36-1c8c-41b3-c861-458290b2e6c8"
      },
      "execution_count": 24,
      "outputs": [
        {
          "output_type": "stream",
          "name": "stdout",
          "text": [
            "Before function call:\n",
            "x = 5\n",
            "y = [1, 2, 3]\n",
            "Inside function:\n",
            "a = 10\n",
            "b = [1, 2, 3, 10]\n",
            "\n",
            "After function call:\n",
            "x = 5\n",
            "y = [1, 2, 3, 10]\n"
          ]
        }
      ]
    },
    {
      "cell_type": "markdown",
      "source": [
        "7. Write a program that performs basic arithmetic operations on two user-input numbers.\n"
      ],
      "metadata": {
        "id": "5URd3JMfScDl"
      }
    },
    {
      "cell_type": "code",
      "source": [
        "a=int(input(\"Enter the first number: \"))\n",
        "b=int(input(\"Enter the second number: \"))\n",
        "b=3\n",
        "print(a+b)   # Addition\n",
        "print(a-b)   # subtraction\n",
        "print(a*b)   # Multipication\n",
        "print(a/b)   # Division\n",
        "print(a//b)  # Floor division\n",
        "print(a%b)   # Modulus\n",
        "print(a**b)  # Exponentiation"
      ],
      "metadata": {
        "colab": {
          "base_uri": "https://localhost:8080/"
        },
        "id": "B0n3HTxqT00q",
        "outputId": "95e9810a-407d-48e0-d97a-8e5c65cc814a"
      },
      "execution_count": 7,
      "outputs": [
        {
          "output_type": "stream",
          "name": "stdout",
          "text": [
            "Enter the first number: 300\n",
            "Enter the second number: 700\n",
            "303\n",
            "297\n",
            "900\n",
            "100.0\n",
            "100\n",
            "0\n",
            "27000000\n"
          ]
        }
      ]
    },
    {
      "cell_type": "markdown",
      "source": [
        "8. Write a program to demonstrate the use of logical operators.\n"
      ],
      "metadata": {
        "id": "dzVYNr2ESdAc"
      }
    },
    {
      "cell_type": "code",
      "source": [
        "#AND LOGICAL OPERATOR\n",
        "x=5\n",
        "print(x>3) and(x<10) # True, i.e. is 5 greater than 3 and less than 10\n",
        "x=11\n",
        "print(x>3) and(x<10) # false, i.e. is 11 greater than 3 and less than 10\n",
        "\n",
        "#OR LOGICAL OPERATOR\n",
        "x=5\n",
        "print(x>3) or(x<10) # True, i.e. is 5 greater than 3 or less than 10\n",
        "x=9\n",
        "print(x>3) or(x<10) # True, i.e. is 9 greter then 3and less then 10\n",
        "\n",
        "#NOT LOGICAL OPERATOR\n",
        "print(5>3)\n",
        "print(not(5>3)) # False, i.e. is 5 not greater than 3\n",
        "\n",
        "print(5<3)\n",
        "print(not(5<3)) # False, i.e. is 5 not greater than 3"
      ],
      "metadata": {
        "colab": {
          "base_uri": "https://localhost:8080/"
        },
        "id": "zpmw5budXypA",
        "outputId": "b41a1613-4531-4597-8d99-b1fb8a7d1c8b"
      },
      "execution_count": 11,
      "outputs": [
        {
          "output_type": "stream",
          "name": "stdout",
          "text": [
            "True\n",
            "True\n",
            "True\n",
            "True\n",
            "True\n",
            "False\n",
            "False\n",
            "True\n"
          ]
        }
      ]
    },
    {
      "cell_type": "markdown",
      "source": [
        "9. Write a Python program to convert user input from string to integer, float, and boolean types."
      ],
      "metadata": {
        "id": "upAwPvZTSfXL"
      }
    },
    {
      "cell_type": "code",
      "source": [
        "# Get input from user (input is always a string)\n",
        "user_input = input(\"Enter a value: \")\n",
        "\n",
        "# Convert to integer\n",
        "int_value = int(user_input)\n",
        "print(\"Integer value:\", int_value)\n",
        "\n",
        "# Convert to float\n",
        "float_value = float(user_input)\n",
        "print(\"Float value:\", float_value)\n",
        "\n",
        "# Convert to boolean\n",
        "bool_value = bool(int(user_input))\n",
        "print(\"Boolean value:\", bool_value)\n"
      ],
      "metadata": {
        "colab": {
          "base_uri": "https://localhost:8080/"
        },
        "id": "gFlBlQ7raf3d",
        "outputId": "29dcf71f-e8d9-4b44-80b6-cecc47f9cb2e"
      },
      "execution_count": 12,
      "outputs": [
        {
          "output_type": "stream",
          "name": "stdout",
          "text": [
            "Enter a value: 100\n",
            "Integer value: 100\n",
            "Float value: 100.0\n",
            "Boolean value: True\n"
          ]
        }
      ]
    },
    {
      "cell_type": "markdown",
      "source": [
        "10. Write code to demonstrate type casting with list elements."
      ],
      "metadata": {
        "id": "0zz5sCmUSgbM"
      }
    },
    {
      "cell_type": "code",
      "source": [
        "# List with string numbers\n",
        "str_list = [\"10\", \"20\", \"30\", \"40\"]\n",
        "\n",
        "print(\"Original list (strings):\", str_list)\n",
        "\n",
        "# Convert each element to integer\n",
        "int_list = [int(x) for x in str_list]\n",
        "print(\"List after converting to integers:\", int_list)\n",
        "\n",
        "# Convert each element to float\n",
        "float_list = [float(x) for x in str_list]\n",
        "print(\"List after converting to floats:\", float_list)\n"
      ],
      "metadata": {
        "colab": {
          "base_uri": "https://localhost:8080/"
        },
        "id": "Q-k0B1p8T2-G",
        "outputId": "b345b098-1fc7-4e9c-aed4-3efd7cf5805a"
      },
      "execution_count": 13,
      "outputs": [
        {
          "output_type": "stream",
          "name": "stdout",
          "text": [
            "Original list (strings): ['10', '20', '30', '40']\n",
            "List after converting to integers: [10, 20, 30, 40]\n",
            "List after converting to floats: [10.0, 20.0, 30.0, 40.0]\n"
          ]
        }
      ]
    },
    {
      "cell_type": "markdown",
      "source": [
        "11. Write a program that checks if a number is positive, negative, or zero.\n"
      ],
      "metadata": {
        "id": "98wFhJEHShzS"
      }
    },
    {
      "cell_type": "code",
      "source": [
        "num= int(input(\"Enter a number: \"))\n",
        "\n",
        "# Check the number\n",
        "if num > 0:\n",
        "    print(\"The number is positive.\")\n",
        "elif num < 0:\n",
        "    print(\"The number is negative.\")\n",
        "else:\n",
        "    print(\"The number is zero.\")"
      ],
      "metadata": {
        "colab": {
          "base_uri": "https://localhost:8080/"
        },
        "id": "TpU4s7-hT3ip",
        "outputId": "66dc640d-de77-47a2-8d47-ee8018d14543"
      },
      "execution_count": 21,
      "outputs": [
        {
          "output_type": "stream",
          "name": "stdout",
          "text": [
            "Enter a number: -8\n",
            "The number is negative.\n"
          ]
        }
      ]
    },
    {
      "cell_type": "markdown",
      "source": [
        "12. Write a for loop to print numbers from 1 to 10."
      ],
      "metadata": {
        "id": "_Itx1FbrSjUX"
      }
    },
    {
      "cell_type": "code",
      "source": [
        "for i in range(1, 11):\n",
        "    print(i)"
      ],
      "metadata": {
        "colab": {
          "base_uri": "https://localhost:8080/"
        },
        "id": "2RcesBN6T4H8",
        "outputId": "81f5226c-caa8-4071-ed7a-ac9d5103179d"
      },
      "execution_count": 22,
      "outputs": [
        {
          "output_type": "stream",
          "name": "stdout",
          "text": [
            "1\n",
            "2\n",
            "3\n",
            "4\n",
            "5\n",
            "6\n",
            "7\n",
            "8\n",
            "9\n",
            "10\n"
          ]
        }
      ]
    },
    {
      "cell_type": "markdown",
      "source": [
        "13. Write a Python program to find the sum of all even numbers between 1 and 50."
      ],
      "metadata": {
        "id": "UCiXQWZaSkng"
      }
    },
    {
      "cell_type": "code",
      "source": [
        "sum_even = 0\n",
        "\n",
        "for i in range(1, 51):\n",
        "    if i % 2 == 0:  # Check if the number is even\n",
        "        sum_even += i\n",
        "\n",
        "print(\"Sum of even numbers from 1 to 50 is:\", sum_even)"
      ],
      "metadata": {
        "colab": {
          "base_uri": "https://localhost:8080/"
        },
        "id": "j0knTv7pT43_",
        "outputId": "c8e4ada6-f55f-4717-aaeb-d81fe52aec21"
      },
      "execution_count": 23,
      "outputs": [
        {
          "output_type": "stream",
          "name": "stdout",
          "text": [
            "Sum of even numbers from 1 to 50 is: 650\n"
          ]
        }
      ]
    },
    {
      "cell_type": "markdown",
      "source": [
        "14. Write a program to reverse a string using a while loop.\n",
        "\n"
      ],
      "metadata": {
        "id": "cq4Q6fiASmsv"
      }
    },
    {
      "cell_type": "code",
      "source": [
        "# Get string from user\n",
        "text = input(\"Enter a string: \")\n",
        "\n",
        "# Initialize variables\n",
        "reversed_text = \"\"\n",
        "index = len(text) - 1  # Start from last character\n",
        "\n",
        "# Loop until index becomes less than 0\n",
        "while index >= 0:\n",
        "    reversed_text += text[index]\n",
        "    index -= 1\n",
        "\n",
        "print(\"Reversed string:\", reversed_text)"
      ],
      "metadata": {
        "colab": {
          "base_uri": "https://localhost:8080/"
        },
        "id": "npfkjIplT5cL",
        "outputId": "1301cbed-6266-4dde-978e-01c3f3bc21f4"
      },
      "execution_count": 25,
      "outputs": [
        {
          "output_type": "stream",
          "name": "stdout",
          "text": [
            "Enter a string: elephant\n",
            "Reversed string: tnahpele\n"
          ]
        }
      ]
    },
    {
      "cell_type": "markdown",
      "source": [
        "15. Write a Python program to calculate the factorial of a number provided by the user using a while loop"
      ],
      "metadata": {
        "id": "fExpxJu6SsmE"
      }
    },
    {
      "cell_type": "code",
      "source": [
        "num = int(input(\"Enter a number: \"))\n",
        "\n",
        "factorial = 1\n",
        "i = 1\n",
        "\n",
        "while i <= num:\n",
        "    factorial *= i\n",
        "    i += 1\n",
        "\n",
        "print(\"Factorial of\", num, \"is:\", factorial)"
      ],
      "metadata": {
        "colab": {
          "base_uri": "https://localhost:8080/"
        },
        "id": "MUuc03CpT6CG",
        "outputId": "1e2883d8-f4b0-4c79-c937-cdb2307e5a2f"
      },
      "execution_count": 26,
      "outputs": [
        {
          "output_type": "stream",
          "name": "stdout",
          "text": [
            "Enter a number: 5\n",
            "Factorial of 5 is: 120\n"
          ]
        }
      ]
    }
  ]
}